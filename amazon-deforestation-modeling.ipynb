{
 "cells": [
  {
   "cell_type": "markdown",
   "metadata": {},
   "source": [
    "# Amazon Deforestation Forecasting Using AI/ML and IoT Data\n",
    "## Part II: Model Training and Evaluation\n",
    "## AAI-530 Team 8 Final Project\n",
    "\n",
    "Team 8:  Tyler Foreman\n",
    "\n",
    "University of San Diego, Applied Artificial Intelligence\n",
    "\n",
    "Date:  Feburary 26, 2023\n",
    "\n",
    "GitHub Repository: https://github.com/t4ai/amazon-deforestation-forecasting"
   ]
  },
  {
   "cell_type": "code",
   "execution_count": null,
   "metadata": {},
   "outputs": [],
   "source": []
  }
 ],
 "metadata": {
  "language_info": {
   "name": "python"
  }
 },
 "nbformat": 4,
 "nbformat_minor": 2
}
